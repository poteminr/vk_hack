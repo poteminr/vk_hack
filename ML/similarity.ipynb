{
 "cells": [
  {
   "cell_type": "code",
   "execution_count": 82,
   "metadata": {
    "slideshow": {
     "slide_type": "slide"
    }
   },
   "outputs": [
    {
     "name": "stdout",
     "output_type": "stream",
     "text": [
      "The autoreload extension is already loaded. To reload it, use:\n",
      "  %reload_ext autoreload\n"
     ]
    }
   ],
   "source": [
    "# from vk_parser import get_data\n",
    "from get_metrics import calc_metrics\n",
    "import numpy as np\n",
    "from text_prep import text_preproc\n",
    "%load_ext autoreload\n",
    "%autoreload 2"
   ]
  },
  {
   "cell_type": "markdown",
   "metadata": {
    "slideshow": {
     "slide_type": "slide"
    }
   },
   "source": [
    "## Parse vk"
   ]
  },
  {
   "cell_type": "code",
   "execution_count": null,
   "metadata": {
    "slideshow": {
     "slide_type": "slide"
    }
   },
   "outputs": [],
   "source": [
    "data = get_data()"
   ]
  },
  {
   "cell_type": "markdown",
   "metadata": {
    "slideshow": {
     "slide_type": "slide"
    }
   },
   "source": [
    "## Data prep "
   ]
  },
  {
   "cell_type": "code",
   "execution_count": 83,
   "metadata": {},
   "outputs": [],
   "source": [
    "profile_info = [\n",
    "    \"\"\"\n",
    "    Я очень добрый и отзывчивый человек, очень люблю животных, особенно кошек - они очень ласковые. У самой дома 2 кота и собака.\n",
    "    \"\"\"\n",
    "]"
   ]
  },
  {
   "cell_type": "code",
   "execution_count": 84,
   "metadata": {},
   "outputs": [],
   "source": [
    "ivents_data = [\n",
    "    \"\"\"\n",
    "    Друзья, мы ищем волонтеров, которые хотели бы поухаживать и посмотреть за животными акции в рамках Дня Кота, которая пройдет в главном корпусе нашего университета \n",
    "\n",
    "    Помощь требуется на выставке, волонтеры нужны на проведение сбора средств для корма животным, а также нужен фотограф. Занятость: 7 сентября 2019 г. с 12.00 до 18.00\n",
    "    \"\"\",\n",
    "    \n",
    "    \"\"\"\n",
    "    Наши партнеры спортивная организация «Сибирский Трейл» проводит эстафету по бегу в сосновом бору (Кутузова, 1б). Мы ищем волонтеров, которые готовы помочь организаторам.\n",
    "    \"\"\",\n",
    "    \n",
    "    \"\"\"Любишь фотографировать, имеешь за плечами опыт и хочешь пополнить своё портфолио. Тогда приглашаем тебя стать волонтером-фотографом на Форуме Август.PRO: матрица педагогических изменений \n",
    "\n",
    "Занятость: 22-23 августа 2019 г. Ты получишь невероятный опыт, кучу положительных эмоций, благодарственные письма и др. Наличие своего фотоаппарата обязательно!\n",
    "    \"\"\"\n",
    "    \n",
    "    \n",
    "]"
   ]
  },
  {
   "cell_type": "code",
   "execution_count": 85,
   "metadata": {},
   "outputs": [],
   "source": [
    "def metrics_res(profile_info, ivent):\n",
    "    profile_info = [text_preproc(data) for data in profile_info]\n",
    "    ivent = text_preproc(ivent)\n",
    "    \n",
    "    metric = calc_metrics(profile_info, ivent)\n",
    "    \n",
    "    return metric"
   ]
  },
  {
   "cell_type": "code",
   "execution_count": 86,
   "metadata": {
    "scrolled": false
   },
   "outputs": [],
   "source": [
    "profile_info = [text_preproc(data) for data in profile_info]\n",
    "ivents_data = [text_preproc(data) for data in ivents_data]"
   ]
  },
  {
   "cell_type": "code",
   "execution_count": 87,
   "metadata": {},
   "outputs": [
    {
     "data": {
      "text/plain": [
       "['я очен добр отзывчив человек очен любл животн особен кошек очен ласков у сам дом 2 кот собак']"
      ]
     },
     "execution_count": 87,
     "metadata": {},
     "output_type": "execute_result"
    }
   ],
   "source": [
    "profile_info"
   ]
  },
  {
   "cell_type": "markdown",
   "metadata": {},
   "source": [
    "## Calc_posts sim using Deeep Learning(fasttext emb, lol 🙃 👨‍💻)"
   ]
  },
  {
   "cell_type": "code",
   "execution_count": 91,
   "metadata": {
    "scrolled": true
   },
   "outputs": [
    {
     "name": "stdout",
     "output_type": "stream",
     "text": [
      "1.0\n",
      "0.0\n",
      "0.47220346\n"
     ]
    }
   ],
   "source": [
    "values = []\n",
    "for ivent in ivents_data:\n",
    "    metric = calc_metrics(profile_info, ivent)\n",
    "    \n",
    "    values.append(metric)\n",
    "values = np.array(values)\n",
    "\n",
    "x_hat = (values - np.min(values)) / (np.max(values) - np.min(values))\n",
    "\n",
    "for m_value in x_hat:\n",
    "    print(m_value)"
   ]
  }
 ],
 "metadata": {
  "kernelspec": {
   "display_name": "Python 3",
   "language": "python",
   "name": "python3"
  },
  "language_info": {
   "codemirror_mode": {
    "name": "ipython",
    "version": 3
   },
   "file_extension": ".py",
   "mimetype": "text/x-python",
   "name": "python",
   "nbconvert_exporter": "python",
   "pygments_lexer": "ipython3",
   "version": "3.7.4"
  }
 },
 "nbformat": 4,
 "nbformat_minor": 2
}
