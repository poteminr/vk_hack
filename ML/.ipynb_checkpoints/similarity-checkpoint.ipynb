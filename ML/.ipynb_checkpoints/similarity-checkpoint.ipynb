{
 "cells": [
  {
   "cell_type": "code",
   "execution_count": 27,
   "metadata": {
    "slideshow": {
     "slide_type": "slide"
    }
   },
   "outputs": [
    {
     "name": "stdout",
     "output_type": "stream",
     "text": [
      "The autoreload extension is already loaded. To reload it, use:\n",
      "  %reload_ext autoreload\n"
     ]
    }
   ],
   "source": [
    "# from vk_parser import get_data\n",
    "from get_metrics import calc_metrics\n",
    "import numpy as np\n",
    "%load_ext autoreload\n",
    "%autoreload 2"
   ]
  },
  {
   "cell_type": "markdown",
   "metadata": {
    "slideshow": {
     "slide_type": "slide"
    }
   },
   "source": [
    "## Parse vk"
   ]
  },
  {
   "cell_type": "code",
   "execution_count": null,
   "metadata": {
    "slideshow": {
     "slide_type": "slide"
    }
   },
   "outputs": [],
   "source": [
    "data = get_data()"
   ]
  },
  {
   "cell_type": "markdown",
   "metadata": {
    "slideshow": {
     "slide_type": "slide"
    }
   },
   "source": [
    "## Data prep "
   ]
  },
  {
   "cell_type": "code",
   "execution_count": 17,
   "metadata": {},
   "outputs": [],
   "source": [
    "profile_info = [\n",
    "    \"\"\"\n",
    "    Я очень добрый и отзывчивый человек, очень люблю животных, особенно кошек - они очень ласковые. У самой дома 2 кота и собака.\n",
    "    \"\"\"\n",
    "]"
   ]
  },
  {
   "cell_type": "code",
   "execution_count": 18,
   "metadata": {},
   "outputs": [],
   "source": [
    "ivents_data = [\n",
    "    \"\"\"\n",
    "    Друзья, мы ищем волонтеров, которые хотели бы поухаживать и посмотреть за животными акции в рамках Дня Кота, которая пройдет в главном корпусе нашего университета \n",
    "\n",
    "    Помощь требуется на выставке, волонтеры нужны на проведение сбора средств для корма животным, а также нужен фотограф. Занятость: 7 сентября 2019 г. с 12.00 до 18.00\n",
    "    \"\"\",\n",
    "    \n",
    "    \"\"\"\n",
    "    Наши партнеры спортивная организация «Сибирский Трейл» проводит эстафету по бегу в сосновом бору (Кутузова, 1б). Мы ищем волонтеров, которые готовы помочь организаторам.\n",
    "    \"\"\",\n",
    "    \n",
    "    \"\"\"Любишь фотографировать, имеешь за плечами опыт и хочешь пополнить своё портфолио. Тогда приглашаем тебя стать волонтером-фотографом на Форуме Август.PRO: матрица педагогических изменений \n",
    "\n",
    "Занятость: 22-23 августа 2019 г. Ты получишь невероятный опыт, кучу положительных эмоций, благодарственные письма и др. Наличие своего фотоаппарата обязательно!\n",
    "    \"\"\"\n",
    "    \n",
    "    \n",
    "]"
   ]
  },
  {
   "cell_type": "code",
   "execution_count": 19,
   "metadata": {},
   "outputs": [],
   "source": [
    "from text_prep import text_preproc"
   ]
  },
  {
   "cell_type": "code",
   "execution_count": 22,
   "metadata": {
    "scrolled": true
   },
   "outputs": [],
   "source": [
    "# user_data = [text_preproc(data[i][\"text\"]) for i in range(10, 11)]\n",
    "# self_info.append(user_data)\n",
    "profile_info = text_preproc(profile_info[0])\n",
    "ivents_data = [text_preproc(data) for data in ivents_data]"
   ]
  },
  {
   "cell_type": "markdown",
   "metadata": {},
   "source": [
    "## Calc_posts sim using Deeep Learning(fasttext emb, lol 🙃 👨‍💻)"
   ]
  },
  {
   "cell_type": "code",
   "execution_count": 43,
   "metadata": {
    "scrolled": true
   },
   "outputs": [
    {
     "name": "stdout",
     "output_type": "stream",
     "text": [
      "0.8075747\n",
      "0.75001\n",
      "0.7778179\n"
     ]
    }
   ],
   "source": [
    "values = []\n",
    "for ivent in ivents_data:\n",
    "    metric = calc_metrics(profile_info, ivent)\n",
    "    print(metric)\n",
    "    \n",
    "    values.append(metric)\n",
    "values = np.array(values)"
   ]
  },
  {
   "cell_type": "code",
   "execution_count": 37,
   "metadata": {},
   "outputs": [],
   "source": [
    "x_hat = (values - np.min(values)) / (np.max(values) - np.min(values))"
   ]
  },
  {
   "cell_type": "code",
   "execution_count": 40,
   "metadata": {},
   "outputs": [
    {
     "name": "stdout",
     "output_type": "stream",
     "text": [
      "1.0\n",
      "0.0\n",
      "0.48307213\n"
     ]
    }
   ],
   "source": [
    "for v in x_hat:\n",
    "    print(v)"
   ]
  }
 ],
 "metadata": {
  "kernelspec": {
   "display_name": "Python 3",
   "language": "python",
   "name": "python3"
  },
  "language_info": {
   "codemirror_mode": {
    "name": "ipython",
    "version": 3
   },
   "file_extension": ".py",
   "mimetype": "text/x-python",
   "name": "python",
   "nbconvert_exporter": "python",
   "pygments_lexer": "ipython3",
   "version": "3.7.4"
  }
 },
 "nbformat": 4,
 "nbformat_minor": 2
}
